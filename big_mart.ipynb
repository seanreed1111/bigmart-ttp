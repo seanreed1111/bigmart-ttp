{
 "cells": [
  {
   "cell_type": "markdown",
   "metadata": {},
   "source": [
    "#### Read in big_mart data file to a dataframe variable"
   ]
  },
  {
   "cell_type": "code",
   "execution_count": 7,
   "metadata": {},
   "outputs": [],
   "source": [
    "import pandas as pd\n",
    "import numpy as np"
   ]
  },
  {
   "cell_type": "code",
   "execution_count": null,
   "metadata": {},
   "outputs": [],
   "source": [
    "df = pd.read_csv('big_mart.csv')"
   ]
  },
  {
   "cell_type": "markdown",
   "metadata": {},
   "source": [
    "#### Create a groupby object using Outlet Location Type"
   ]
  },
  {
   "cell_type": "code",
   "execution_count": 10,
   "metadata": {},
   "outputs": [
    {
     "data": {
      "text/html": [
       "<div>\n",
       "<style scoped>\n",
       "    .dataframe tbody tr th:only-of-type {\n",
       "        vertical-align: middle;\n",
       "    }\n",
       "\n",
       "    .dataframe tbody tr th {\n",
       "        vertical-align: top;\n",
       "    }\n",
       "\n",
       "    .dataframe thead th {\n",
       "        text-align: right;\n",
       "    }\n",
       "</style>\n",
       "<table border=\"1\" class=\"dataframe\">\n",
       "  <thead>\n",
       "    <tr style=\"text-align: right;\">\n",
       "      <th></th>\n",
       "      <th></th>\n",
       "      <th>Item_Weight</th>\n",
       "      <th>Item_Visibility</th>\n",
       "      <th>Item_MRP</th>\n",
       "      <th>Outlet_Establishment_Year</th>\n",
       "      <th>Item_Outlet_Sales</th>\n",
       "    </tr>\n",
       "    <tr>\n",
       "      <th>Outlet_Location_Type</th>\n",
       "      <th>Outlet_Type</th>\n",
       "      <th></th>\n",
       "      <th></th>\n",
       "      <th></th>\n",
       "      <th></th>\n",
       "      <th></th>\n",
       "    </tr>\n",
       "  </thead>\n",
       "  <tbody>\n",
       "    <tr>\n",
       "      <th rowspan=\"2\" valign=\"top\">Tier 1</th>\n",
       "      <th>Grocery Store</th>\n",
       "      <td>0.000</td>\n",
       "      <td>57.257041</td>\n",
       "      <td>73807.5824</td>\n",
       "      <td>1048080</td>\n",
       "      <td>1.796941e+05</td>\n",
       "    </tr>\n",
       "    <tr>\n",
       "      <th>Supermarket Type1</th>\n",
       "      <td>23979.350</td>\n",
       "      <td>112.781031</td>\n",
       "      <td>262590.2296</td>\n",
       "      <td>3716280</td>\n",
       "      <td>4.302365e+06</td>\n",
       "    </tr>\n",
       "    <tr>\n",
       "      <th>Tier 2</th>\n",
       "      <th>Supermarket Type1</th>\n",
       "      <td>35560.630</td>\n",
       "      <td>169.990299</td>\n",
       "      <td>393150.6416</td>\n",
       "      <td>5582060</td>\n",
       "      <td>6.472314e+06</td>\n",
       "    </tr>\n",
       "    <tr>\n",
       "      <th rowspan=\"4\" valign=\"top\">Tier 3</th>\n",
       "      <th>Grocery Store</th>\n",
       "      <td>7166.800</td>\n",
       "      <td>56.308832</td>\n",
       "      <td>78131.5646</td>\n",
       "      <td>1108890</td>\n",
       "      <td>1.883402e+05</td>\n",
       "    </tr>\n",
       "    <tr>\n",
       "      <th>Supermarket Type1</th>\n",
       "      <td>12121.730</td>\n",
       "      <td>55.879859</td>\n",
       "      <td>131809.0156</td>\n",
       "      <td>1851884</td>\n",
       "      <td>2.142664e+06</td>\n",
       "    </tr>\n",
       "    <tr>\n",
       "      <th>Supermarket Type2</th>\n",
       "      <td>11946.465</td>\n",
       "      <td>56.621454</td>\n",
       "      <td>131477.7724</td>\n",
       "      <td>1864352</td>\n",
       "      <td>1.851823e+06</td>\n",
       "    </tr>\n",
       "    <tr>\n",
       "      <th>Supermarket Type3</th>\n",
       "      <td>0.000</td>\n",
       "      <td>54.804764</td>\n",
       "      <td>130714.6746</td>\n",
       "      <td>1855975</td>\n",
       "      <td>3.453926e+06</td>\n",
       "    </tr>\n",
       "  </tbody>\n",
       "</table>\n",
       "</div>"
      ],
      "text/plain": [
       "                                        Item_Weight  Item_Visibility  \\\n",
       "Outlet_Location_Type Outlet_Type                                       \n",
       "Tier 1               Grocery Store            0.000        57.257041   \n",
       "                     Supermarket Type1    23979.350       112.781031   \n",
       "Tier 2               Supermarket Type1    35560.630       169.990299   \n",
       "Tier 3               Grocery Store         7166.800        56.308832   \n",
       "                     Supermarket Type1    12121.730        55.879859   \n",
       "                     Supermarket Type2    11946.465        56.621454   \n",
       "                     Supermarket Type3        0.000        54.804764   \n",
       "\n",
       "                                           Item_MRP  \\\n",
       "Outlet_Location_Type Outlet_Type                      \n",
       "Tier 1               Grocery Store       73807.5824   \n",
       "                     Supermarket Type1  262590.2296   \n",
       "Tier 2               Supermarket Type1  393150.6416   \n",
       "Tier 3               Grocery Store       78131.5646   \n",
       "                     Supermarket Type1  131809.0156   \n",
       "                     Supermarket Type2  131477.7724   \n",
       "                     Supermarket Type3  130714.6746   \n",
       "\n",
       "                                        Outlet_Establishment_Year  \\\n",
       "Outlet_Location_Type Outlet_Type                                    \n",
       "Tier 1               Grocery Store                        1048080   \n",
       "                     Supermarket Type1                    3716280   \n",
       "Tier 2               Supermarket Type1                    5582060   \n",
       "Tier 3               Grocery Store                        1108890   \n",
       "                     Supermarket Type1                    1851884   \n",
       "                     Supermarket Type2                    1864352   \n",
       "                     Supermarket Type3                    1855975   \n",
       "\n",
       "                                        Item_Outlet_Sales  \n",
       "Outlet_Location_Type Outlet_Type                           \n",
       "Tier 1               Grocery Store           1.796941e+05  \n",
       "                     Supermarket Type1       4.302365e+06  \n",
       "Tier 2               Supermarket Type1       6.472314e+06  \n",
       "Tier 3               Grocery Store           1.883402e+05  \n",
       "                     Supermarket Type1       2.142664e+06  \n",
       "                     Supermarket Type2       1.851823e+06  \n",
       "                     Supermarket Type3       3.453926e+06  "
      ]
     },
     "execution_count": 10,
     "metadata": {},
     "output_type": "execute_result"
    }
   ],
   "source": [
    "df.groupby(['Outlet_Location_Type', 'Outlet_Type']).sum()"
   ]
  },
  {
   "cell_type": "markdown",
   "metadata": {},
   "source": [
    "#### Find a count of the outlet location types using .count()  What does this resulting dataframe tell us about missing data?"
   ]
  },
  {
   "cell_type": "code",
   "execution_count": null,
   "metadata": {},
   "outputs": [],
   "source": []
  },
  {
   "cell_type": "markdown",
   "metadata": {},
   "source": [
    "#### Show total sales (Item Outlet Sales) by Outlet Location Type, round your result to 2 decimals"
   ]
  },
  {
   "cell_type": "code",
   "execution_count": null,
   "metadata": {},
   "outputs": [],
   "source": []
  },
  {
   "cell_type": "markdown",
   "metadata": {},
   "source": [
    "#### Retrieve just the Tier 1 members from your groupby object, you can use the .get_group method and tell it which group you want"
   ]
  },
  {
   "cell_type": "code",
   "execution_count": null,
   "metadata": {},
   "outputs": [],
   "source": []
  },
  {
   "cell_type": "markdown",
   "metadata": {},
   "source": [
    "#### Find the mean and median of the Sales and Visibility metrics for each Outlet Location Type"
   ]
  },
  {
   "cell_type": "code",
   "execution_count": null,
   "metadata": {},
   "outputs": [],
   "source": []
  },
  {
   "cell_type": "markdown",
   "metadata": {},
   "source": [
    "#### Find average Item_MRP and average Item_Outlet_Sales by Outlet_Type and Item_Type "
   ]
  },
  {
   "cell_type": "code",
   "execution_count": null,
   "metadata": {},
   "outputs": [],
   "source": []
  },
  {
   "cell_type": "markdown",
   "metadata": {},
   "source": [
    "#### Let's look at total sales by Item_Type, sort descending so top selling products are listed first"
   ]
  },
  {
   "cell_type": "code",
   "execution_count": null,
   "metadata": {},
   "outputs": [],
   "source": []
  },
  {
   "cell_type": "markdown",
   "metadata": {},
   "source": [
    "#### What if we wanted to know what % each row makes up of its items total sales?"
   ]
  },
  {
   "cell_type": "code",
   "execution_count": null,
   "metadata": {},
   "outputs": [],
   "source": []
  },
  {
   "cell_type": "markdown",
   "metadata": {},
   "source": [
    "#### Let's fill the NAs in the 'Item Weight' column. Group by Item_Fat_Content, and Item_Type and find the average weight for those groupings. Each item with a missing weight should be assigned the average weight of the group it belongs to."
   ]
  },
  {
   "cell_type": "code",
   "execution_count": null,
   "metadata": {},
   "outputs": [],
   "source": []
  },
  {
   "cell_type": "markdown",
   "metadata": {},
   "source": [
    "#### Using the same Item_Fat_Content and Item_type grouping, filter out any rows where the average item weight for those groups is less than 12"
   ]
  },
  {
   "cell_type": "code",
   "execution_count": null,
   "metadata": {},
   "outputs": [],
   "source": []
  }
 ],
 "metadata": {
  "kernelspec": {
   "display_name": "Python 3",
   "language": "python",
   "name": "python3"
  },
  "language_info": {
   "codemirror_mode": {
    "name": "ipython",
    "version": 3
   },
   "file_extension": ".py",
   "mimetype": "text/x-python",
   "name": "python",
   "nbconvert_exporter": "python",
   "pygments_lexer": "ipython3",
   "version": "3.7.7"
  }
 },
 "nbformat": 4,
 "nbformat_minor": 4
}
